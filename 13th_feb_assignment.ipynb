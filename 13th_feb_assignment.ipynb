{
 "cells": [
  {
   "cell_type": "markdown",
   "id": "6628f1f8-890a-4cae-89bf-3aed2a73aac0",
   "metadata": {},
   "source": [
    "# <center> 13th Feb Assignment"
   ]
  },
  {
   "cell_type": "markdown",
   "id": "f3e11ee4-0850-464c-accd-d00b2606119c",
   "metadata": {},
   "source": [
    "## Q1:- Explain why we have to use the Exception class while creating a Custom Exception."
   ]
  },
  {
   "cell_type": "markdown",
   "id": "2877b010-f24d-4192-8e4d-318e3ff0c172",
   "metadata": {},
   "source": [
    "Ans 1:- In Python, an exception is a special event that interrupts the normal flow of program execution when an error or unexpected situation occurs. When such an event occurs, the Python interpreter raises an exception object, which contains information about the error, including its type and message.\n",
    "\n",
    "When you create a custom exception in Python, you are essentially defining a new type of exception that you can raise in your code when certain conditions are met. This can be useful for signaling specific error conditions that may not be covered by the built-in exceptions provided by Python.\n",
    "\n",
    "To create a custom exception in Python, you typically define a new class that inherits from the built-in Exception class. By doing so, you can leverage the functionality provided by the Exception class to customize your exception with additional attributes, such as a custom error message, and to define how the exception should be handled when it is raised.\n",
    "\n",
    "By using the Exception class as a base class for your custom exception, you can ensure that your exception behaves consistently with the built-in exceptions provided by Python, including the ability to catch and handle the exception using the same mechanisms used for built-in exceptions.\n",
    "\n",
    "In summary, using the Exception class as a base class for your custom exception in Python provides a consistent way to define and handle errors in your code, and allows you to leverage the functionality provided by the built-in Exception class to create custom error conditions that can be easily integrated into your code."
   ]
  },
  {
   "cell_type": "markdown",
   "id": "7b4830c6-4d91-432e-aa18-8857e7bc3570",
   "metadata": {},
   "source": [
    "## Q2:-  Write a python program to print Python Exception Hierarchy."
   ]
  },
  {
   "cell_type": "code",
   "execution_count": 2,
   "id": "5ae64881-5ab3-46d2-84ca-ca33677b2dd2",
   "metadata": {},
   "outputs": [
    {
     "name": "stdout",
     "output_type": "stream",
     "text": [
      "Exception\n",
      "  TypeError\n",
      "    FloatOperation\n",
      "    MultipartConversionError\n",
      "  StopAsyncIteration\n",
      "  StopIteration\n",
      "  ImportError\n",
      "    ModuleNotFoundError\n",
      "    ZipImportError\n",
      "  OSError\n",
      "    ConnectionError\n",
      "      BrokenPipeError\n",
      "      ConnectionAbortedError\n",
      "      ConnectionRefusedError\n",
      "      ConnectionResetError\n",
      "        RemoteDisconnected\n",
      "    BlockingIOError\n",
      "    ChildProcessError\n",
      "    FileExistsError\n",
      "    FileNotFoundError\n",
      "    IsADirectoryError\n",
      "    NotADirectoryError\n",
      "    InterruptedError\n",
      "      InterruptedSystemCall\n",
      "    PermissionError\n",
      "    ProcessLookupError\n",
      "    TimeoutError\n",
      "    UnsupportedOperation\n",
      "    itimer_error\n",
      "    herror\n",
      "    gaierror\n",
      "    SSLError\n",
      "      SSLCertVerificationError\n",
      "      SSLZeroReturnError\n",
      "      SSLWantWriteError\n",
      "      SSLWantReadError\n",
      "      SSLSyscallError\n",
      "      SSLEOFError\n",
      "    Error\n",
      "      SameFileError\n",
      "    SpecialFileError\n",
      "    ExecError\n",
      "    ReadError\n",
      "    URLError\n",
      "      HTTPError\n",
      "      ContentTooShortError\n",
      "    BadGzipFile\n",
      "  EOFError\n",
      "    IncompleteReadError\n",
      "  RuntimeError\n",
      "    RecursionError\n",
      "    NotImplementedError\n",
      "      ZMQVersionError\n",
      "      StdinNotImplementedError\n",
      "    _DeadlockError\n",
      "    BrokenBarrierError\n",
      "    BrokenExecutor\n",
      "      BrokenThreadPool\n",
      "    SendfileNotAvailableError\n",
      "    ExtractionError\n",
      "    VariableError\n",
      "  NameError\n",
      "    UnboundLocalError\n",
      "  AttributeError\n",
      "    FrozenInstanceError\n",
      "  SyntaxError\n",
      "    IndentationError\n",
      "      TabError\n",
      "  LookupError\n",
      "    IndexError\n",
      "    KeyError\n",
      "      NoSuchKernel\n",
      "      UnknownBackend\n",
      "    CodecRegistryError\n",
      "  ValueError\n",
      "    UnicodeError\n",
      "      UnicodeEncodeError\n",
      "      UnicodeDecodeError\n",
      "      UnicodeTranslateError\n",
      "    UnsupportedOperation\n",
      "    JSONDecodeError\n",
      "    SSLCertVerificationError\n",
      "    Error\n",
      "    UnsupportedDigestmodError\n",
      "    IllegalMonthError\n",
      "    IllegalWeekdayError\n",
      "    ParserError\n",
      "    ClassNotFound\n",
      "    ClipboardEmpty\n",
      "    MessageDefect\n",
      "      NoBoundaryInMultipartDefect\n",
      "      StartBoundaryNotFoundDefect\n",
      "      CloseBoundaryNotFoundDefect\n",
      "      FirstHeaderLineIsContinuationDefect\n",
      "      MisplacedEnvelopeHeaderDefect\n",
      "      MissingHeaderBodySeparatorDefect\n",
      "      MultipartInvariantViolationDefect\n",
      "      InvalidMultipartContentTransferEncodingDefect\n",
      "      UndecodableBytesDefect\n",
      "      InvalidBase64PaddingDefect\n",
      "      InvalidBase64CharactersDefect\n",
      "      InvalidBase64LengthDefect\n",
      "      HeaderDefect\n",
      "        InvalidHeaderDefect\n",
      "        HeaderMissingRequiredValue\n",
      "        NonPrintableDefect\n",
      "        ObsoleteHeaderDefect\n",
      "        NonASCIILocalPartDefect\n",
      "        InvalidDateDefect\n",
      "    MacroToEdit\n",
      "    InvalidFileException\n",
      "    UnequalIterablesError\n",
      "    InvalidVersion\n",
      "    _InvalidELFFileHeader\n",
      "    InvalidWheelFilename\n",
      "    InvalidSdistFilename\n",
      "    InvalidSpecifier\n",
      "    InvalidMarker\n",
      "    UndefinedComparison\n",
      "    UndefinedEnvironmentName\n",
      "    InvalidRequirement\n",
      "      RequirementParseError\n",
      "    InvalidVersion\n",
      "  AssertionError\n",
      "  ArithmeticError\n",
      "    FloatingPointError\n",
      "    OverflowError\n",
      "    ZeroDivisionError\n",
      "      DivisionByZero\n",
      "      DivisionUndefined\n",
      "    DecimalException\n",
      "      Clamped\n",
      "      Rounded\n",
      "        Underflow\n",
      "        Overflow\n",
      "      Inexact\n",
      "        Underflow\n",
      "        Overflow\n",
      "      Subnormal\n",
      "        Underflow\n",
      "      DivisionByZero\n",
      "      FloatOperation\n",
      "      InvalidOperation\n",
      "        ConversionSyntax\n",
      "        DivisionImpossible\n",
      "        DivisionUndefined\n",
      "        InvalidContext\n",
      "  SystemError\n",
      "    CodecRegistryError\n",
      "  ReferenceError\n",
      "  MemoryError\n",
      "  BufferError\n",
      "  Warning\n",
      "    UserWarning\n",
      "      GetPassWarning\n",
      "      FormatterWarning\n",
      "    EncodingWarning\n",
      "    DeprecationWarning\n",
      "      ProvisionalWarning\n",
      "    PendingDeprecationWarning\n",
      "    SyntaxWarning\n",
      "    RuntimeWarning\n",
      "      ProactorSelectorThreadWarning\n",
      "      UnknownTimezoneWarning\n",
      "      PEP440Warning\n",
      "    FutureWarning\n",
      "      ProvisionalCompleterWarning\n",
      "    ImportWarning\n",
      "    UnicodeWarning\n",
      "    BytesWarning\n",
      "    ResourceWarning\n",
      "    DeprecatedTzFormatWarning\n",
      "    PkgResourcesDeprecationWarning\n",
      "  _OptionError\n",
      "  _Error\n",
      "  error\n",
      "  Verbose\n",
      "  Error\n",
      "  SubprocessError\n",
      "    CalledProcessError\n",
      "    TimeoutExpired\n",
      "  TokenError\n",
      "  StopTokenizing\n",
      "  ClassFoundException\n",
      "  EndOfBlock\n",
      "  TraitError\n",
      "  Error\n",
      "  Error\n",
      "    CancelledError\n",
      "    TimeoutError\n",
      "    InvalidStateError\n",
      "  _GiveupOnSendfile\n",
      "  error\n",
      "  Incomplete\n",
      "  TimeoutError\n",
      "  InvalidStateError\n",
      "  LimitOverrunError\n",
      "  QueueEmpty\n",
      "  QueueFull\n",
      "  Empty\n",
      "  Full\n",
      "  ArgumentError\n",
      "  ZMQBaseError\n",
      "    ZMQError\n",
      "      ContextTerminated\n",
      "      Again\n",
      "      InterruptedSystemCall\n",
      "    ZMQBindError\n",
      "    NotDone\n",
      "  PickleError\n",
      "    PicklingError\n",
      "    UnpicklingError\n",
      "  _Stop\n",
      "  ArgumentError\n",
      "  ArgumentTypeError\n",
      "  ConfigError\n",
      "    ConfigLoaderError\n",
      "      ArgumentError\n",
      "    ConfigFileNotFound\n",
      "  ConfigurableError\n",
      "    MultipleInstanceError\n",
      "  ApplicationError\n",
      "  error\n",
      "  TimeoutError\n",
      "  error\n",
      "  ReturnValueIgnoredError\n",
      "  KeyReuseError\n",
      "  UnknownKeyError\n",
      "  LeakedCallbackError\n",
      "  BadYieldError\n",
      "  ReturnValueIgnoredError\n",
      "  Return\n",
      "  InvalidPortNumber\n",
      "  error\n",
      "  LZMAError\n",
      "  RegistryError\n",
      "  _GiveupOnFastCopy\n",
      "  Error\n",
      "    NoSectionError\n",
      "    DuplicateSectionError\n",
      "    DuplicateOptionError\n",
      "    NoOptionError\n",
      "    InterpolationError\n",
      "      InterpolationMissingOptionError\n",
      "      InterpolationSyntaxError\n",
      "      InterpolationDepthError\n",
      "    ParsingError\n",
      "      MissingSectionHeaderError\n",
      "  NoIPAddresses\n",
      "  BadZipFile\n",
      "  LargeZipFile\n",
      "  BadEntryPoint\n",
      "  NoSuchEntryPoint\n",
      "  DuplicateKernelError\n",
      "  ErrorDuringImport\n",
      "  NotOneValueFound\n",
      "  CannotEval\n",
      "  OptionError\n",
      "  BdbQuit\n",
      "  Restart\n",
      "  ExceptionPexpect\n",
      "    EOF\n",
      "    TIMEOUT\n",
      "  PtyProcessError\n",
      "  FindCmdError\n",
      "  HomeDirError\n",
      "  ProfileDirError\n",
      "  IPythonCoreError\n",
      "    TryNext\n",
      "    UsageError\n",
      "    StdinNotImplementedError\n",
      "  InputRejected\n",
      "  GetoptError\n",
      "  ErrorToken\n",
      "  PrefilterError\n",
      "  AliasError\n",
      "    InvalidAliasError\n",
      "  Error\n",
      "    InterfaceError\n",
      "    DatabaseError\n",
      "      InternalError\n",
      "      OperationalError\n",
      "      ProgrammingError\n",
      "      IntegrityError\n",
      "      DataError\n",
      "      NotSupportedError\n",
      "  Warning\n",
      "  SpaceInInput\n",
      "  DOMException\n",
      "    IndexSizeErr\n",
      "    DomstringSizeErr\n",
      "    HierarchyRequestErr\n",
      "    WrongDocumentErr\n",
      "    InvalidCharacterErr\n",
      "    NoDataAllowedErr\n",
      "    NoModificationAllowedErr\n",
      "    NotFoundErr\n",
      "    NotSupportedErr\n",
      "    InuseAttributeErr\n",
      "    InvalidStateErr\n",
      "    SyntaxErr\n",
      "    InvalidModificationErr\n",
      "    NamespaceErr\n",
      "    InvalidAccessErr\n",
      "    ValidationErr\n",
      "  ValidationError\n",
      "  EditReadOnlyBuffer\n",
      "  _Retry\n",
      "  InvalidLayoutError\n",
      "  HeightIsUnknownError\n",
      "  ParserSyntaxError\n",
      "  InternalParseError\n",
      "  _PositionUpdatingFinished\n",
      "  SimpleGetItemNotFound\n",
      "  UncaughtAttributeError\n",
      "  HasNoContext\n",
      "  ParamIssue\n",
      "  _JediError\n",
      "    InternalError\n",
      "    WrongVersion\n",
      "    RefactoringError\n",
      "  OnErrorLeaf\n",
      "  InvalidPythonEnvironment\n",
      "  MessageError\n",
      "    MessageParseError\n",
      "      HeaderParseError\n",
      "      BoundaryError\n",
      "    MultipartConversionError\n",
      "    CharsetError\n",
      "  Error\n",
      "  HTTPException\n",
      "    NotConnected\n",
      "    InvalidURL\n",
      "    UnknownProtocol\n",
      "    UnknownTransferEncoding\n",
      "    UnimplementedFileMode\n",
      "    IncompleteRead\n",
      "    ImproperConnectionState\n",
      "      CannotSendRequest\n",
      "      CannotSendHeader\n",
      "      ResponseNotReady\n",
      "    BadStatusLine\n",
      "      RemoteDisconnected\n",
      "    LineTooLong\n",
      "  InteractivelyDefined\n",
      "  KillEmbedded\n",
      "  Error\n",
      "    NoSuchProcess\n",
      "      ZombieProcess\n",
      "    AccessDenied\n",
      "    TimeoutExpired\n",
      "  _Ipv6UnsupportedError\n",
      "  QueueEmpty\n",
      "  QueueFull\n",
      "  DebuggerInitializationError\n",
      "  ExpatError\n",
      "  Error\n",
      "    ProtocolError\n",
      "    ResponseError\n",
      "    Fault\n",
      "  ParseBaseException\n",
      "    ParseException\n",
      "    ParseFatalException\n",
      "      ParseSyntaxException\n",
      "  RecursiveGrammarException\n",
      "  ResolutionError\n",
      "    VersionConflict\n",
      "      ContextualVersionConflict\n",
      "    DistributionNotFound\n",
      "    UnknownExtra\n",
      "  _Error\n",
      "  UnableToResolveVariableException\n",
      "  InvalidTypeInArgsException\n"
     ]
    }
   ],
   "source": [
    "def print_exception_hierarchy(exception_class, indent=0):\n",
    "    print(' ' * indent + str(exception_class.__name__))\n",
    "    for subclass in exception_class.__subclasses__():\n",
    "        print_exception_hierarchy(subclass, indent + 2)\n",
    "\n",
    "# Call the function with the base Exception class\n",
    "print_exception_hierarchy(Exception)"
   ]
  },
  {
   "cell_type": "markdown",
   "id": "fe001a61-8286-4e34-a1f7-fd3df708ede0",
   "metadata": {},
   "source": [
    "## Q3:-  What errors are defined in the ArithmeticError class? Explain any two with an example."
   ]
  },
  {
   "cell_type": "markdown",
   "id": "fab82c75-b7d6-4001-8d40-f63f447cedad",
   "metadata": {},
   "source": [
    "Ans 3 :- The ArithmeticError class is a built-in exception class in Python that is raised when an arithmetic operation fails. It is a base class for several other more specific arithmetic error classes, such as ZeroDivisionError and OverflowError.\n",
    "\n",
    "Here are two examples of errors that are defined in the ArithmeticError class:\n",
    "\n",
    "1. FloatingPointError: This error is raised when a floating-point operation fails. For example, dividing a non-zero number by zero will raise a FloatingPointError."
   ]
  },
  {
   "cell_type": "code",
   "execution_count": 5,
   "id": "74eb9d1c-c6af-4ad2-81ed-1993c33e2465",
   "metadata": {},
   "outputs": [
    {
     "ename": "ZeroDivisionError",
     "evalue": "float division by zero",
     "output_type": "error",
     "traceback": [
      "\u001b[0;31m---------------------------------------------------------------------------\u001b[0m",
      "\u001b[0;31mZeroDivisionError\u001b[0m                         Traceback (most recent call last)",
      "Cell \u001b[0;32mIn[5], line 2\u001b[0m\n\u001b[1;32m      1\u001b[0m \u001b[38;5;66;03m# Example of a FloatingPointError\u001b[39;00m\n\u001b[0;32m----> 2\u001b[0m a\u001b[38;5;241m=\u001b[39m \u001b[38;5;241;43m1.0\u001b[39;49m\u001b[43m \u001b[49m\u001b[38;5;241;43m/\u001b[39;49m\u001b[43m \u001b[49m\u001b[38;5;241;43m0.0\u001b[39;49m\n",
      "\u001b[0;31mZeroDivisionError\u001b[0m: float division by zero"
     ]
    }
   ],
   "source": [
    "# Example of a FloatingPointError\n",
    "a= 1.0 / 0.0\n"
   ]
  },
  {
   "cell_type": "markdown",
   "id": "ce0e760f-aebc-4d88-8d4a-d6f80eeb078c",
   "metadata": {},
   "source": [
    "2. ValueError: This error is raised when an argument is of the correct type, but has an invalid value. For example, passing an invalid base to the int function will raise a ValueError."
   ]
  },
  {
   "cell_type": "code",
   "execution_count": 6,
   "id": "f51878d2-6155-44a5-9e09-d84edbdd359d",
   "metadata": {},
   "outputs": [
    {
     "ename": "ValueError",
     "evalue": "int() base must be >= 2 and <= 36, or 0",
     "output_type": "error",
     "traceback": [
      "\u001b[0;31m---------------------------------------------------------------------------\u001b[0m",
      "\u001b[0;31mValueError\u001b[0m                                Traceback (most recent call last)",
      "Cell \u001b[0;32mIn[6], line 2\u001b[0m\n\u001b[1;32m      1\u001b[0m \u001b[38;5;66;03m# Example of a ValueError\u001b[39;00m\n\u001b[0;32m----> 2\u001b[0m \u001b[38;5;28;43mint\u001b[39;49m\u001b[43m(\u001b[49m\u001b[38;5;124;43m'\u001b[39;49m\u001b[38;5;124;43m123\u001b[39;49m\u001b[38;5;124;43m'\u001b[39;49m\u001b[43m,\u001b[49m\u001b[43m \u001b[49m\u001b[43mbase\u001b[49m\u001b[38;5;241;43m=\u001b[39;49m\u001b[38;5;241;43m37\u001b[39;49m\u001b[43m)\u001b[49m\n",
      "\u001b[0;31mValueError\u001b[0m: int() base must be >= 2 and <= 36, or 0"
     ]
    }
   ],
   "source": [
    "# Example of a ValueError\n",
    "int('123', base=37)\n"
   ]
  },
  {
   "cell_type": "markdown",
   "id": "38149773-a661-43b2-a5f2-7d9483ad55d6",
   "metadata": {},
   "source": [
    "** Note that both of these errors are subclasses of ArithmeticError, which means that they inherit its properties and behaviors. For example, they can both be caught using a try/except block that catches ArithmeticError, and they both have access to the same attributes and methods defined in the ArithmeticError class."
   ]
  },
  {
   "cell_type": "markdown",
   "id": "f3f61020-135b-4c13-9319-ce4756cbf844",
   "metadata": {},
   "source": [
    "## Q4:- Why LookupError class is used? Explain with an example KeyError and IndexError."
   ]
  },
  {
   "cell_type": "markdown",
   "id": "ae487cfe-ff7f-4c6c-a10e-1291583ebcbd",
   "metadata": {},
   "source": [
    "Ans 4:- The LookupError class is a built-in exception class in Python that is raised when a lookup operation fails. It is a base class for several other more specific lookup error classes, such as KeyError and IndexError."
   ]
  },
  {
   "cell_type": "markdown",
   "id": "af52dfff-b3a4-4652-a8e7-375e32e39423",
   "metadata": {},
   "source": [
    "1. KeyError: This error is raised when a key is not found in a dictionary. For example, trying to access a non-existent key in a dictionary using the square bracket notation will raise a KeyError."
   ]
  },
  {
   "cell_type": "code",
   "execution_count": 7,
   "id": "2fcefe34-b3bf-49d2-91c5-e9aa22c0596c",
   "metadata": {},
   "outputs": [
    {
     "ename": "KeyError",
     "evalue": "'c'",
     "output_type": "error",
     "traceback": [
      "\u001b[0;31m---------------------------------------------------------------------------\u001b[0m",
      "\u001b[0;31mKeyError\u001b[0m                                  Traceback (most recent call last)",
      "Cell \u001b[0;32mIn[7], line 3\u001b[0m\n\u001b[1;32m      1\u001b[0m \u001b[38;5;66;03m# Example of a KeyError\u001b[39;00m\n\u001b[1;32m      2\u001b[0m my_dict \u001b[38;5;241m=\u001b[39m {\u001b[38;5;124m'\u001b[39m\u001b[38;5;124ma\u001b[39m\u001b[38;5;124m'\u001b[39m: \u001b[38;5;241m1\u001b[39m, \u001b[38;5;124m'\u001b[39m\u001b[38;5;124mb\u001b[39m\u001b[38;5;124m'\u001b[39m: \u001b[38;5;241m2\u001b[39m}\n\u001b[0;32m----> 3\u001b[0m \u001b[43mmy_dict\u001b[49m\u001b[43m[\u001b[49m\u001b[38;5;124;43m'\u001b[39;49m\u001b[38;5;124;43mc\u001b[39;49m\u001b[38;5;124;43m'\u001b[39;49m\u001b[43m]\u001b[49m\n",
      "\u001b[0;31mKeyError\u001b[0m: 'c'"
     ]
    }
   ],
   "source": [
    "# Example of a KeyError\n",
    "my_dict = {'a': 1, 'b': 2}\n",
    "my_dict['c']\n"
   ]
  },
  {
   "cell_type": "markdown",
   "id": "23c39b72-72ca-4ff0-b582-6b8df16a7251",
   "metadata": {},
   "source": [
    "2. IndexError: This error is raised when an index is out of range for a sequence, such as a list or a string. For example, trying to access an index that is outside the bounds of a list will raise an IndexError."
   ]
  },
  {
   "cell_type": "code",
   "execution_count": 15,
   "id": "7aa1f646-0e58-4361-a2c7-111ef023fa38",
   "metadata": {},
   "outputs": [
    {
     "ename": "IndexError",
     "evalue": "list index out of range",
     "output_type": "error",
     "traceback": [
      "\u001b[0;31m---------------------------------------------------------------------------\u001b[0m",
      "\u001b[0;31mIndexError\u001b[0m                                Traceback (most recent call last)",
      "Cell \u001b[0;32mIn[15], line 5\u001b[0m\n\u001b[1;32m      1\u001b[0m \u001b[38;5;66;03m# Example of an IndexError\u001b[39;00m\n\u001b[1;32m      2\u001b[0m \u001b[38;5;66;03m#try:\u001b[39;00m\n\u001b[1;32m      4\u001b[0m my_list \u001b[38;5;241m=\u001b[39m [\u001b[38;5;241m1\u001b[39m, \u001b[38;5;241m2\u001b[39m, \u001b[38;5;241m3\u001b[39m]\n\u001b[0;32m----> 5\u001b[0m \u001b[43mmy_list\u001b[49m\u001b[43m[\u001b[49m\u001b[38;5;241;43m3\u001b[39;49m\u001b[43m]\u001b[49m\n\u001b[1;32m      6\u001b[0m \u001b[38;5;66;03m#except IndexError as e:\u001b[39;00m\n\u001b[1;32m      7\u001b[0m \u001b[38;5;66;03m#    print(\"The error occured : \",e)\u001b[39;00m\n",
      "\u001b[0;31mIndexError\u001b[0m: list index out of range"
     ]
    }
   ],
   "source": [
    "# Example of an IndexError\n",
    "   \n",
    "my_list = [1, 2, 3]\n",
    "my_list[3]\n",
    "\n",
    "\n"
   ]
  },
  {
   "cell_type": "markdown",
   "id": "773c240d-06da-4228-bf97-9973c208ae35",
   "metadata": {},
   "source": [
    "** Note that both of these errors are subclasses of LookupError, which means that they inherit its properties and behaviors. For example, they can both be caught using a try/except block that catches LookupError, and they both have access to the same attributes and methods defined in the LookupError class."
   ]
  },
  {
   "cell_type": "markdown",
   "id": "3ecac7e7-a50e-4b13-9c26-755c86785e81",
   "metadata": {},
   "source": [
    "## Q5:- Explain ImportError. What is ModuleNotFoundError?"
   ]
  },
  {
   "cell_type": "markdown",
   "id": "c47d6cba-7819-4016-a5d9-44a5af977736",
   "metadata": {},
   "source": [
    "Ans 5:- ImportError is a built-in exception class in Python that is raised when a module or package cannot be imported. It is a subclass of Exception.\n",
    "\n",
    "Here are some common reasons why an ImportError might occur:\n",
    "\n",
    "The module or package name is misspelled or does not exist.\n",
    "The module or package is not in the search path or the search path is not set correctly.\n",
    "The module or package has missing dependencies or incompatible versions.\n",
    "Here is an example of an ImportError:\n",
    "\n"
   ]
  },
  {
   "cell_type": "code",
   "execution_count": 16,
   "id": "6a993ff7-8fb0-4d33-90b8-fe9e8214d468",
   "metadata": {},
   "outputs": [
    {
     "name": "stdout",
     "output_type": "stream",
     "text": [
      "ModuleNotFoundError: No module named 'my_missing_module'\n"
     ]
    }
   ],
   "source": [
    "# Example of a ModuleNotFoundError\n",
    "try:\n",
    "    import my_missing_module\n",
    "except ModuleNotFoundError as e:\n",
    "    print(f\"ModuleNotFoundError: {e}\")\n"
   ]
  },
  {
   "cell_type": "markdown",
   "id": "b14ebd2a-e8b3-4143-ae7f-8b949d4c30b7",
   "metadata": {},
   "source": [
    "In this example, we try to import a module called my_missing_module, which does not exist. The exception that is raised is a ModuleNotFoundError, which we catch and print the error message.\n",
    "\n",
    "Note that ModuleNotFoundError is only available in Python 3.6 and later versions. In earlier versions, an ImportError would be raised for both cases of missing and incorrect import statements."
   ]
  },
  {
   "cell_type": "markdown",
   "id": "3e5f3fe1-69f1-43be-8dce-f237514b11aa",
   "metadata": {},
   "source": [
    "## Q6:- List down some best practices for exception handling in python."
   ]
  },
  {
   "cell_type": "markdown",
   "id": "78d0c45d-db36-4bca-af7f-e67b65a3a725",
   "metadata": {},
   "source": [
    "Ans 6:- \n",
    "\n",
    "* Catch specific exceptions: Catch only the exceptions that you are expecting and handle them appropriately. This will help you to identify and fix the root cause of the exception.\n",
    "\n",
    "* Use finally block: Use the finally block to execute code that must be run regardless of whether an exception occurred or not, such as closing a file or database connection.\n",
    "\n",
    "* Use context managers: Use context managers, such as the with statement, to automatically release resources when they are no longer needed, even if an exception is raised.\n",
    "\n",
    "* Provide meaningful error messages: Provide informative error messages that help users understand what went wrong and how to fix it.\n",
    "\n",
    "* Don't catch Exception: Avoid catching the base Exception class, as it can catch unexpected errors and mask underlying issues.\n",
    "\n",
    "* Raise exceptions: Raise appropriate exceptions to provide useful feedback to the user, and to control the flow of the program.\n",
    "\n",
    "* Handle exceptions at the appropriate level: Handle exceptions at the appropriate level, such as at the function level or module level, and let other exceptions propagate up the call stack.\n",
    "\n",
    "* Use logging: Use logging to record exceptions and other events in your code, which can help with debugging and troubleshooting.\n",
    "\n",
    "* Test exception handling: Test exception handling in your code to ensure that it behaves as expected, and to catch any issues early in the development process.\n",
    "\n",
    "** Overall, good exception handling practices help to make your code more robust, maintainable, and reliable."
   ]
  },
  {
   "cell_type": "markdown",
   "id": "ac459738-901c-4071-81b7-3658b26bbee8",
   "metadata": {},
   "source": [
    "# <Center> End of Assignment"
   ]
  },
  {
   "cell_type": "code",
   "execution_count": null,
   "id": "e9ccf198-b1e3-4091-a724-d297e19430b7",
   "metadata": {},
   "outputs": [],
   "source": []
  }
 ],
 "metadata": {
  "kernelspec": {
   "display_name": "Python 3 (ipykernel)",
   "language": "python",
   "name": "python3"
  },
  "language_info": {
   "codemirror_mode": {
    "name": "ipython",
    "version": 3
   },
   "file_extension": ".py",
   "mimetype": "text/x-python",
   "name": "python",
   "nbconvert_exporter": "python",
   "pygments_lexer": "ipython3",
   "version": "3.10.8"
  }
 },
 "nbformat": 4,
 "nbformat_minor": 5
}
